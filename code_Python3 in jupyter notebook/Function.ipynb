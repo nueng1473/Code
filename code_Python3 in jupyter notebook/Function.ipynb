{
 "cells": [
  {
   "cell_type": "code",
   "execution_count": 50,
   "metadata": {},
   "outputs": [
    {
     "name": "stdout",
     "output_type": "stream",
     "text": [
      "Python is so awesome\n",
      "python is sum awesome\n"
     ]
    }
   ],
   "source": [
    "x = 'sum awesome'\n",
    "def myfunc():\n",
    "    x = 'so awesome'\n",
    "    print('Python is '+ x)\n",
    "myfunc()\n",
    "print('python is '+ x)"
   ]
  },
  {
   "cell_type": "code",
   "execution_count": 51,
   "metadata": {},
   "outputs": [
    {
     "name": "stdout",
     "output_type": "stream",
     "text": [
      "Python is fantastic\n"
     ]
    }
   ],
   "source": [
    "def myfunc():\n",
    "    global x\n",
    "    x = 'fantastic'\n",
    "myfunc()\n",
    "print('Python is '+ x)"
   ]
  },
  {
   "cell_type": "code",
   "execution_count": 54,
   "metadata": {},
   "outputs": [
    {
     "name": "stdout",
     "output_type": "stream",
     "text": [
      "Python is awesome\n"
     ]
    }
   ],
   "source": [
    "x = 'awesome'\n",
    "def put():\n",
    "    global x\n",
    "    x = 'fantastic'\n",
    "put()\n",
    "print('Python is '+ x)"
   ]
  },
  {
   "cell_type": "code",
   "execution_count": 75,
   "metadata": {},
   "outputs": [
    {
     "name": "stdout",
     "output_type": "stream",
     "text": [
      "<class 'int'>\n",
      "<class 'float'>\n",
      "<class 'str'>\n",
      "<class 'list'>\n",
      "<class 'tuple'>\n",
      "<class 'dict'>\n",
      "\n"
     ]
    }
   ],
   "source": [
    "a = 5\n",
    "b = 5.3\n",
    "c = 'World'\n",
    "d = ['Car', 'Cat', 'Banana'] # or [1, 2, 3, 4, 5]\n",
    "e = (1, 2, 3, 4, 5) # or ('apple', 'dog', 'gule')\n",
    "f = {'name' : 'class', 'gender' : 54}\n",
    "print(type(a))\n",
    "print(type(b))\n",
    "print(type(c))\n",
    "print(type(d))\n",
    "print(type(e))\n",
    "print(type(f))\n",
    "print()"
   ]
  },
  {
   "cell_type": "code",
   "execution_count": null,
   "metadata": {},
   "outputs": [],
   "source": []
  }
 ],
 "metadata": {
  "kernelspec": {
   "display_name": "Python 3",
   "language": "python",
   "name": "python3"
  },
  "language_info": {
   "codemirror_mode": {
    "name": "ipython",
    "version": 3
   },
   "file_extension": ".py",
   "mimetype": "text/x-python",
   "name": "python",
   "nbconvert_exporter": "python",
   "pygments_lexer": "ipython3",
   "version": "3.7.6"
  }
 },
 "nbformat": 4,
 "nbformat_minor": 4
}
