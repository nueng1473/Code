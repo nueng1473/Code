{
 "cells": [
  {
   "cell_type": "code",
   "execution_count": 65,
   "metadata": {},
   "outputs": [],
   "source": [
    "import math\n",
    "import random"
   ]
  },
  {
   "cell_type": "markdown",
   "metadata": {},
   "source": [
    "one bookstore attempt "
   ]
  },
  {
   "cell_type": "code",
   "execution_count": 12,
   "metadata": {},
   "outputs": [
    {
     "name": "stdout",
     "output_type": "stream",
     "text": [
      "How many books : 5\n",
      "How much : 600\n",
      "You have to pay 540 bath\n"
     ]
    }
   ],
   "source": [
    "book = int(input('How many books : '))\n",
    "amount = int(input('How much : '))\n",
    "if book > 3 and amount > 500:\n",
    "    amount_pay = amount - (amount * 0.1)\n",
    "    print('You have to pay %d bath'% amount_pay)\n",
    "else:\n",
    "    print('You have to pay %d bath'% amount)"
   ]
  },
  {
   "cell_type": "code",
   "execution_count": 105,
   "metadata": {},
   "outputs": [],
   "source": [
    "def books(book, amount):\n",
    "    if book > 3 and amount > 500:\n",
    "        amount_pay = amount - amount * 0.1\n",
    "        print('You have to pay %d bath'%amount_pay)\n",
    "    print('You have to pay %d bath'%amount_pay)"
   ]
  },
  {
   "cell_type": "code",
   "execution_count": 20,
   "metadata": {},
   "outputs": [
    {
     "name": "stdout",
     "output_type": "stream",
     "text": [
      "Enter N : 10\n",
      "Enter K : 3\n",
      "3\n",
      "6\n",
      "9\n"
     ]
    }
   ],
   "source": [
    "number1 = int(input('Enter N : '))\n",
    "number2 = int(input('Enter K : '))\n",
    "for x in range (1, number1):\n",
    "    if x % number2 == 0:\n",
    "        print(x)"
   ]
  },
  {
   "cell_type": "code",
   "execution_count": 12,
   "metadata": {},
   "outputs": [
    {
     "name": "stdout",
     "output_type": "stream",
     "text": [
      "30\n"
     ]
    }
   ],
   "source": [
    "def printdouble(s):\n",
    "    for x in range (s+1):\n",
    "        x *= 2\n",
    "    return x\n",
    "print(printdouble(15))"
   ]
  },
  {
   "cell_type": "code",
   "execution_count": 36,
   "metadata": {},
   "outputs": [],
   "source": [
    "def func(x):\n",
    "    y = x ** 2 * (2 - 2 ** (- x / 100))\n",
    "    return y\n"
   ]
  },
  {
   "cell_type": "code",
   "execution_count": 44,
   "metadata": {},
   "outputs": [
    {
     "name": "stdout",
     "output_type": "stream",
     "text": [
      "Enter X : 0\n",
      "Enter Y : 1\n",
      "In's not\n"
     ]
    }
   ],
   "source": [
    "x = float(input('Enter X : '))\n",
    "y = float(input('Enter Y : '))\n",
    "if under(x, y):\n",
    "    print('It\\'s')\n",
    "else:\n",
    "    print('In\\'s not')"
   ]
  },
  {
   "cell_type": "code",
   "execution_count": 61,
   "metadata": {},
   "outputs": [
    {
     "data": {
      "text/plain": [
       "False"
      ]
     },
     "execution_count": 61,
     "metadata": {},
     "output_type": "execute_result"
    }
   ],
   "source": [
    "def under(x, y):\n",
    "    if func(x) > y:\n",
    "        return True    \n",
    "    return False\n",
    "under(1, 12)"
   ]
  },
  {
   "cell_type": "code",
   "execution_count": 70,
   "metadata": {},
   "outputs": [
    {
     "name": "stdout",
     "output_type": "stream",
     "text": [
      "Enter A : 99\n",
      "Enter B : 100\n"
     ]
    },
    {
     "data": {
      "text/plain": [
       "1.5"
      ]
     },
     "execution_count": 70,
     "metadata": {},
     "output_type": "execute_result"
    }
   ],
   "source": [
    "def area(a, b):\n",
    "    n = 0\n",
    "    for x in range(int(math.pow(10, 4))):\n",
    "        xx = random.randint(int(a), int(b))\n",
    "        y = random.randint(0, int(func(b)))\n",
    "        if xx >= a and xx <= b:\n",
    "            if under(xx, y):\n",
    "                n += 1\n",
    "                sum = (b - a) * func(b) * (n / int(math.pow(10, 4)))\n",
    "                return sum\n",
    "\n",
    "a = int(input('Enter A : '))\n",
    "b = int(input('Enter B : '))\n",
    "area(a, b)"
   ]
  },
  {
   "cell_type": "code",
   "execution_count": 104,
   "metadata": {},
   "outputs": [
    {
     "name": "stdout",
     "output_type": "stream",
     "text": [
      "100.0\n"
     ]
    }
   ],
   "source": [
    "print(math.pow(10, 2))"
   ]
  },
  {
   "cell_type": "code",
   "execution_count": 103,
   "metadata": {},
   "outputs": [
    {
     "name": "stdout",
     "output_type": "stream",
     "text": [
      "2\n"
     ]
    }
   ],
   "source": [
    "print(random.randint(1, 5))"
   ]
  },
  {
   "cell_type": "code",
   "execution_count": null,
   "metadata": {},
   "outputs": [],
   "source": []
  }
 ],
 "metadata": {
  "kernelspec": {
   "display_name": "Python 3",
   "language": "python",
   "name": "python3"
  },
  "language_info": {
   "codemirror_mode": {
    "name": "ipython",
    "version": 3
   },
   "file_extension": ".py",
   "mimetype": "text/x-python",
   "name": "python",
   "nbconvert_exporter": "python",
   "pygments_lexer": "ipython3",
   "version": "3.7.6"
  }
 },
 "nbformat": 4,
 "nbformat_minor": 4
}
