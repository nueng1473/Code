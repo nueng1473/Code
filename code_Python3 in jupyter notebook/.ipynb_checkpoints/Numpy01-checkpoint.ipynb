{
 "cells": [
  {
   "cell_type": "code",
   "execution_count": 19,
   "metadata": {},
   "outputs": [
    {
     "name": "stdout",
     "output_type": "stream",
     "text": [
      "Original array\n",
      "[1.  0.  4.5 nan inf]\n",
      "Test a given array element-wise for finiteness :\n",
      "[ True  True  True False False]\n"
     ]
    }
   ],
   "source": [
    "import numpy as z\n",
    "a = z.array([1, 0, 4.5, z.nan, z.inf])\n",
    "print('Original array')\n",
    "print(a)\n",
    "print('Test a given array element-wise for finiteness :')\n",
    "print(z.isfinite(a))"
   ]
  },
  {
   "cell_type": "code",
   "execution_count": 36,
   "metadata": {},
   "outputs": [
    {
     "name": "stdout",
     "output_type": "stream",
     "text": [
      "Original array\n",
      "[1.  0.  4.5 nan inf]\n",
      "Test a given array element-wise for isinf :\n",
      "[False False False False  True]\n"
     ]
    }
   ],
   "source": [
    "import numpy as z\n",
    "a = z.array([1, 0, 4.5, z.nan, z.inf])\n",
    "print('Original array')\n",
    "print(a)\n",
    "print('Test a given array element-wise for isinf :')\n",
    "print(z.isinf(a))"
   ]
  },
  {
   "cell_type": "code",
   "execution_count": 40,
   "metadata": {},
   "outputs": [
    {
     "name": "stdout",
     "output_type": "stream",
     "text": [
      "Original array\n",
      "[ 1.  0. nan inf]\n",
      "Test a given array element-wise for isnan :\n",
      "[False False  True False]\n"
     ]
    }
   ],
   "source": [
    "import numpy as z\n",
    "a = z.array([1, 0, z.nan, z.inf])\n",
    "print('Original array')\n",
    "print(a)\n",
    "print('Test a given array element-wise for isnan :')\n",
    "print(z.isnan(a))"
   ]
  },
  {
   "cell_type": "code",
   "execution_count": 84,
   "metadata": {},
   "outputs": [
    {
     "name": "stdout",
     "output_type": "stream",
     "text": [
      "Original array\n",
      "[1. +1.j 1. +3.j 4.5+0.j 3. +0.j 2. +0.j 2. +0.j]\n",
      "Checking for complex number :\n",
      "[ True  True False False False False]\n",
      "Checking for real number :\n",
      "[False False  True  True  True  True]\n",
      "Checking for scalar type :\n",
      "False\n",
      "True\n"
     ]
    }
   ],
   "source": [
    "import numpy as z\n",
    "s = 4.9\n",
    "a = z.array([1 + 1j, 1 + 3j, 4.5, 3, 2, 2 ])#\n",
    "print('Original array')\n",
    "print(a)\n",
    "print('Checking for complex number :')#\n",
    "print(z.iscomplex(a))\n",
    "print('Checking for real number :')#\n",
    "print(z.isreal(a))\n",
    "print('Checking for scalar type :')#\n",
    "print(z.isscalar(a))\n",
    "print(z.isscalar(s))"
   ]
  },
  {
   "cell_type": "code",
   "execution_count": 3,
   "metadata": {},
   "outputs": [
    {
     "name": "stdout",
     "output_type": "stream",
     "text": [
      "Original number : \n",
      "[3 5]\n",
      "[2 5]\n",
      "Comparison - greater\n",
      "[ True False]\n",
      "Comparison - greater_equal\n",
      "[ True  True]\n",
      "Comparison - less\n",
      "[False False]\n",
      "Comparison - less_equal\n",
      "[False  True]\n"
     ]
    }
   ],
   "source": [
    "import numpy as np\n",
    "x = np.array([3, 5])\n",
    "y = np.array([2, 5])\n",
    "print('Original number : ')\n",
    "print(x)\n",
    "print(y)\n",
    "print('Comparison - greater')\n",
    "print(np.greater(x, y))\n",
    "print('Comparison - greater_equal')\n",
    "print(np.greater_equal(x, y))\n",
    "print('Comparison - less')\n",
    "print(np.less(x, y))\n",
    "print('Comparison - less_equal')\n",
    "print(np.less_equal(x, y))"
   ]
  },
  {
   "cell_type": "code",
   "execution_count": 54,
   "metadata": {},
   "outputs": [
    {
     "name": "stdout",
     "output_type": "stream",
     "text": [
      "Original number : \n",
      "[72, 79, 85, 90, 150, -135, 120, -10, 60, 1]\n",
      "[72, 79, 85, 90, 150, -135, 120, -10, 60, 1.00001]\n",
      "Comparison - equal : \n",
      "[ True  True  True  True  True  True  True  True  True False]\n",
      "Comparison - equal withina tolerance : \n",
      "True\n"
     ]
    }
   ],
   "source": [
    "import numpy as np\n",
    "x = ([72, 79, 85, 90, 150, -135, 120, -10, 60, 1])\n",
    "y = ([72, 79, 85, 90, 150, -135, 120, -10, 60, 1.00001])\n",
    "print('Original number : ')\n",
    "print(x)\n",
    "print(y)\n",
    "print('Comparison - equal : ')\n",
    "print(np.equal(x, y))\n",
    "print('Comparison - equal withina tolerance : ')\n",
    "print(np.allclose(x, y))"
   ]
  },
  {
   "cell_type": "code",
   "execution_count": null,
   "metadata": {},
   "outputs": [],
   "source": []
  },
  {
   "cell_type": "code",
   "execution_count": null,
   "metadata": {},
   "outputs": [],
   "source": []
  }
 ],
 "metadata": {
  "kernelspec": {
   "display_name": "Python 3",
   "language": "python",
   "name": "python3"
  },
  "language_info": {
   "codemirror_mode": {
    "name": "ipython",
    "version": 3
   },
   "file_extension": ".py",
   "mimetype": "text/x-python",
   "name": "python",
   "nbconvert_exporter": "python",
   "pygments_lexer": "ipython3",
   "version": "3.7.6"
  }
 },
 "nbformat": 4,
 "nbformat_minor": 4
}
