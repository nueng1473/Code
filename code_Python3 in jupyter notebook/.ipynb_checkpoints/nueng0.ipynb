import numpy as np
import pandas as pd
'''list_a = [3, 2, 5, 4, 9]
list_b = [195.1, 129.3, 201.6, 110.5]
Cnidaria = ['ປາທະເລ', 'ປາກະລັງ', 'ດອກໄມ້ທະເລ', 'ແມງກະພຸນ']
kpkp = [111111, 999.99, 'ກກກກກກ']
print(list_a)
print(list_b)
print(Cnidaria)
print(kpkp)

r = range(1000, 2000, 100)
print(r)
print(list(r))
print(tuple(r))

aray = np.array(range(3, 7))
araya = np.array([[1, 2], [3, 4]])
print(aray)
print(araya)
print('\n')
print(aray.shape)
print(aray.size)
print(aray.ndim)
print('\n')
print(araya.shape)
print(araya.size)
print(araya.ndim)
print('\n')
print(np.size(araya))
print(np.shape(araya))
print(np.ndim(araya))

araye = np.array([[[1, 2], [3, 4]],[[5, 6], [7, 8]]])
print(araye)
print(araye.shape)
print(araye.size)
print(araye.ndim)

arayu = np.array([[1, 2], [3, 4, 5]])
print(arayu.shape)
print(arayu.size)
print(arayu.ndim)'''

