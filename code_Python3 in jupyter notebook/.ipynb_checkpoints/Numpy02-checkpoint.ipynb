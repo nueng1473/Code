{
 "cells": [
  {
   "cell_type": "code",
   "execution_count": 11,
   "metadata": {},
   "outputs": [
    {
     "name": "stdout",
     "output_type": "stream",
     "text": [
      "[3 4 5 6]\n",
      "[[1 2]\n",
      " [3 4]\n",
      " [5 6]\n",
      " [7 8]]\n"
     ]
    }
   ],
   "source": [
    "import numpy as np\n",
    "aray = np.array(range(3,7))\n",
    "araya = np.array([[1,2],[3,4],[5,6],[7,8]])\n",
    "print(aray)\n",
    "print(araya)"
   ]
  },
  {
   "cell_type": "code",
   "execution_count": 87,
   "metadata": {},
   "outputs": [
    {
     "name": "stdout",
     "output_type": "stream",
     "text": [
      "(4,)\n",
      "4\n",
      "1\n",
      "(4, 2)\n",
      "8\n",
      "2\n"
     ]
    }
   ],
   "source": [
    "import numpy as np\n",
    "aray = np.array(range(3,7))\n",
    "araya = np.array([[1,2],[3,4],[5,6],[7,8]])\n",
    "#shape  ຮູບຮ່າງຂອງອາເລ \n",
    "#size   ຈຳນວນສະມະຊິກຂອງອາເລ\n",
    "#ndim   ຈຳນວນມິຕິຂອງອາເລ\n",
    "print(aray.shape)\n",
    "print(aray.size)\n",
    "print(aray.ndim)\n",
    "print(araya.shape)\n",
    "print(araya.size)\n",
    "print(araya.ndim)"
   ]
  },
  {
   "cell_type": "code",
   "execution_count": 19,
   "metadata": {},
   "outputs": [
    {
     "name": "stdout",
     "output_type": "stream",
     "text": [
      "2\n",
      "6\n"
     ]
    }
   ],
   "source": [
    "#ອາເລ2ມິຕິມີ: ຖັນ ແລະ ແຖວ\n",
    "import numpy as np\n",
    "ariyu = np.array([[1,2,3],\\\n",
    "                  [4,5,6]])\n",
    "print(ariyu[0][1])\n",
    "print(ariyu[1][2])"
   ]
  },
  {
   "cell_type": "code",
   "execution_count": 23,
   "metadata": {},
   "outputs": [
    {
     "name": "stdout",
     "output_type": "stream",
     "text": [
      "3\n"
     ]
    }
   ],
   "source": [
    "import numpy as np\n",
    "ariyu = np.array([[[1,2,3],[56,78,45]],\\\n",
    "                  [[4,5,6],[34,21,0]]])\n",
    "print(ariyu[0][0][2])\n",
    "#print(ariyu[1][2])"
   ]
  },
  {
   "cell_type": "code",
   "execution_count": 88,
   "metadata": {},
   "outputs": [
    {
     "name": "stdout",
     "output_type": "stream",
     "text": [
      "45\n",
      "4\n"
     ]
    }
   ],
   "source": [
    "import numpy as np\n",
    "ariyu = np.array([[[[1,2,3],[40,76,90]],[[43,65,55],[56,78,45]]],\\\n",
    "                  [[[4,5,6],[12,46,23]],[[32,44,33],[34,21,0]]]])\n",
    "print(ariyu[0][1][1][2])\n",
    "print(ariyu.ndim)\n",
    "#print(ariyu[1][2])"
   ]
  },
  {
   "cell_type": "code",
   "execution_count": 89,
   "metadata": {},
   "outputs": [
    {
     "name": "stdout",
     "output_type": "stream",
     "text": [
      "4 5 6\n",
      "[4 5 6]\n"
     ]
    }
   ],
   "source": [
    "import numpy as np\n",
    "ariyu = np.array([[1,2,3],\\\n",
    "                  [4,5,6]])\n",
    "print(ariyu[1][0],ariyu[1][1],ariyu[1][2])\n",
    "print(ariyu[1])"
   ]
  },
  {
   "cell_type": "code",
   "execution_count": 50,
   "metadata": {},
   "outputs": [
    {
     "name": "stdout",
     "output_type": "stream",
     "text": [
      " 2 \n",
      " 5\n"
     ]
    }
   ],
   "source": [
    "import numpy as np\n",
    "ariyu = np.array([[1,2,3],\\\n",
    "                  [4,5,6]])\n",
    "print('',ariyu[0][1],'\\n',ariyu[1][1])"
   ]
  },
  {
   "cell_type": "code",
   "execution_count": 81,
   "metadata": {},
   "outputs": [
    {
     "name": "stdout",
     "output_type": "stream",
     "text": [
      "[0 1 2 3 4 5 6 7 8 9]\n",
      "[1.5 2.5 3.5 4.5 5.5 6.5 7.5] [1.5 3.5 5.5 7.5]\n"
     ]
    }
   ],
   "source": [
    "import numpy as np\n",
    "print(np.arange(10))\n",
    "print(np.arange(1.5,8,1),np.arange(1.5,8,2))"
   ]
  },
  {
   "cell_type": "code",
   "execution_count": 82,
   "metadata": {},
   "outputs": [
    {
     "name": "stdout",
     "output_type": "stream",
     "text": [
      "[1. 1. 1. 1. 1. 1. 1. 1. 1. 1.]\n",
      "[[1. 1. 1. 1.]\n",
      " [1. 1. 1. 1.]]\n",
      "[[0. 0. 0. 0. 0.]\n",
      " [0. 0. 0. 0. 0.]]\n"
     ]
    }
   ],
   "source": [
    "import numpy as np\n",
    "print(np.ones(10))\n",
    "print(np.ones([2,4]))\n",
    "print(np.zeros([2,5])) "
   ]
  },
  {
   "cell_type": "code",
   "execution_count": 84,
   "metadata": {
    "scrolled": true
   },
   "outputs": [
    {
     "name": "stdout",
     "output_type": "stream",
     "text": [
      "[20 20 20 20]\n",
      "[[5 5 5 5 5]\n",
      " [5 5 5 5 5]]\n"
     ]
    }
   ],
   "source": [
    "import numpy as np\n",
    "#(ມິຕິຂອງອາເລ , ຄ່າທີ່ຕ້ອງກາານຊ້ຳ)\n",
    "print(np.full(4,20))\n",
    "print(np.full([2,5],5))"
   ]
  },
  {
   "cell_type": "code",
   "execution_count": 86,
   "metadata": {},
   "outputs": [
    {
     "name": "stdout",
     "output_type": "stream",
     "text": [
      "[4.         4.42857143 4.85714286 5.28571429 5.71428571 6.14285714\n",
      " 6.57142857 7.        ]\n",
      "[4.    4.375 4.75  5.125 5.5   5.875 6.25  6.625]\n",
      "[1.  1.6 2.2 2.8 3.4 4. ]\n",
      "[1.  1.5 2.  2.5 3.  3.5]\n"
     ]
    }
   ],
   "source": [
    "import numpy as np\n",
    "#(ຈຸດເລີມ,ຈຸດສິ້ນສຸດ,ຈຳນວນ)\n",
    "#endpoint = 0 ບໍ່ເອົາເລກຈຸດປາຍ\n",
    "print(np.linspace(4,7,8))\n",
    "print(np.linspace(4,7,8,endpoint = 0))\n",
    "print(np.linspace(1,4,6))\n",
    "print(np.linspace(1,4,6,endpoint = 0))"
   ]
  },
  {
   "cell_type": "code",
   "execution_count": 91,
   "metadata": {},
   "outputs": [
    {
     "name": "stdout",
     "output_type": "stream",
     "text": [
      "{'int': [<class 'numpy.int8'>, <class 'numpy.int16'>, <class 'numpy.int32'>, <class 'numpy.int64'>], 'uint': [<class 'numpy.uint8'>, <class 'numpy.uint16'>, <class 'numpy.uint32'>, <class 'numpy.uint64'>], 'float': [<class 'numpy.float16'>, <class 'numpy.float32'>, <class 'numpy.float64'>], 'complex': [<class 'numpy.complex64'>, <class 'numpy.complex128'>], 'others': [<class 'bool'>, <class 'object'>, <class 'bytes'>, <class 'str'>, <class 'numpy.void'>]}\n"
     ]
    }
   ],
   "source": [
    "import numpy as np\n",
    "#ຊະນິດຂອງອາເລທັງໝົດ\n",
    "print(np.sctypes)"
   ]
  },
  {
   "cell_type": "code",
   "execution_count": null,
   "metadata": {},
   "outputs": [],
   "source": []
  },
  {
   "cell_type": "code",
   "execution_count": null,
   "metadata": {},
   "outputs": [],
   "source": []
  }
 ],
 "metadata": {
  "kernelspec": {
   "display_name": "Python 3",
   "language": "python",
   "name": "python3"
  },
  "language_info": {
   "codemirror_mode": {
    "name": "ipython",
    "version": 3
   },
   "file_extension": ".py",
   "mimetype": "text/x-python",
   "name": "python",
   "nbconvert_exporter": "python",
   "pygments_lexer": "ipython3",
   "version": "3.7.6"
  }
 },
 "nbformat": 4,
 "nbformat_minor": 4
}
