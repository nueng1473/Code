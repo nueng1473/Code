{
 "cells": [
  {
   "cell_type": "code",
   "execution_count": 153,
   "metadata": {
    "scrolled": true
   },
   "outputs": [
    {
     "name": "stdout",
     "output_type": "stream",
     "text": [
      "You can assign \n",
      "a  multilline string to \n",
      "a variable by using three quotes\n"
     ]
    }
   ],
   "source": [
    "# single quotes or double quotes\n",
    "x = '''You can assign \n",
    "a  multilline string to \n",
    "a variable by using three quotes'''\n",
    "print(x)"
   ]
  },
  {
   "cell_type": "code",
   "execution_count": 6,
   "metadata": {},
   "outputs": [
    {
     "name": "stdout",
     "output_type": "stream",
     "text": [
      "e\n"
     ]
    }
   ],
   "source": [
    "# string are arrays\n",
    "x = 'hello world ! '\n",
    "print(x[1])"
   ]
  },
  {
   "cell_type": "code",
   "execution_count": 8,
   "metadata": {},
   "outputs": [
    {
     "name": "stdout",
     "output_type": "stream",
     "text": [
      "llo,\n"
     ]
    }
   ],
   "source": [
    "# slicing\n",
    "x = 'HEllo, world ! '\n",
    "print(x[2:6])"
   ]
  },
  {
   "cell_type": "code",
   "execution_count": 18,
   "metadata": {},
   "outputs": [
    {
     "name": "stdout",
     "output_type": "stream",
     "text": [
      "world !\n"
     ]
    }
   ],
   "source": [
    "# Nagativeindexing core (X)\n",
    "x = \"Hello world ! \"\n",
    "print(x[-8:-1])"
   ]
  },
  {
   "cell_type": "code",
   "execution_count": 20,
   "metadata": {},
   "outputs": [
    {
     "name": "stdout",
     "output_type": "stream",
     "text": [
      "14\n"
     ]
    }
   ],
   "source": [
    "# String Length ໍ= ຄວາມຍາວຂອງຂໍ້ຄວາມ\n",
    "x = \"Hello world ! \"\n",
    "print(len(x))"
   ]
  },
  {
   "cell_type": "code",
   "execution_count": 24,
   "metadata": {},
   "outputs": [
    {
     "name": "stdout",
     "output_type": "stream",
     "text": [
      "Hello world !\n",
      "     Hello world !    \n"
     ]
    }
   ],
   "source": [
    "# String Methods = ການລົບຊ່ອງວ່າງອອກ\n",
    "x = '     Hello world !    '\n",
    "print(x.strip())\n",
    "print(x)"
   ]
  },
  {
   "cell_type": "code",
   "execution_count": 29,
   "metadata": {},
   "outputs": [
    {
     "name": "stdout",
     "output_type": "stream",
     "text": [
      "hello world ! \n"
     ]
    }
   ],
   "source": [
    "# String Lower = ປັບຂໍ້ຄວາມເປັນໂຕພິມນ້ອຍ\n",
    "x = \"HELlo WorlD ! \"\n",
    "print(x.lower())"
   ]
  },
  {
   "cell_type": "code",
   "execution_count": 31,
   "metadata": {},
   "outputs": [
    {
     "name": "stdout",
     "output_type": "stream",
     "text": [
      "HELLO WORLD ! \n"
     ]
    }
   ],
   "source": [
    "# String upper = ປັບຂໍ້ຄວາມເປັນໂຕພິມໃຫຍ່\n",
    "x = \"hello world ! \"\n",
    "print(x.upper())"
   ]
  },
  {
   "cell_type": "code",
   "execution_count": 40,
   "metadata": {},
   "outputs": [
    {
     "name": "stdout",
     "output_type": "stream",
     "text": [
      "a Hello World ! \n"
     ]
    }
   ],
   "source": [
    "# String replace\n",
    "x = 'Hello World ! '\n",
    "print(x.replace('H', 'a H'))"
   ]
  },
  {
   "cell_type": "code",
   "execution_count": 51,
   "metadata": {},
   "outputs": [
    {
     "name": "stdout",
     "output_type": "stream",
     "text": [
      "['Hello', 'World', '!']\n"
     ]
    }
   ],
   "source": [
    "# String split\n",
    "x = 'Hello World ! '\n",
    "print(x.split())"
   ]
  },
  {
   "cell_type": "code",
   "execution_count": 62,
   "metadata": {},
   "outputs": [
    {
     "name": "stdout",
     "output_type": "stream",
     "text": [
      "True\n",
      "False\n"
     ]
    }
   ],
   "source": [
    "# Check String in or not in\n",
    "txt = 'The rain in spain stays \\\n",
    "    mainly in the plain'\n",
    "x = 'ain' in txt\n",
    "z = 'ain' not in txt\n",
    "print(x)\n",
    "print(z)"
   ]
  },
  {
   "cell_type": "code",
   "execution_count": 65,
   "metadata": {},
   "outputs": [
    {
     "name": "stdout",
     "output_type": "stream",
     "text": [
      "Hello World\n"
     ]
    }
   ],
   "source": [
    "# String Concatenation\n",
    "x = 'Hello'\n",
    "y = 'World'\n",
    "z = x + ' ' + y\n",
    "print(z)"
   ]
  },
  {
   "cell_type": "code",
   "execution_count": 80,
   "metadata": {},
   "outputs": [
    {
     "name": "stdout",
     "output_type": "stream",
     "text": [
      "My name is Nueng, and I'm 19 year old.\n",
      "I want 3 prices of item 567 for 49.99 dollars.\n",
      "I want to pay 49.99 dollars for 3 prices of item 567.\n"
     ]
    }
   ],
   "source": [
    "# String format\n",
    "age = 19\n",
    "quantity = 3\n",
    "itemno = 567\n",
    "price = 49.99\n",
    "txt = 'My name is Nueng, and I\\'m {} year old.'\n",
    "myorder = 'I want {} prices of item {} for {} dollars.'\n",
    "myorder1 = 'I want to pay {2} dollars for {0} prices of item {1}.'\n",
    "print(txt.format(age))\n",
    "print(myorder.format(quantity, itemno, price))\n",
    "print(myorder1.format(quantity, itemno, price))"
   ]
  },
  {
   "cell_type": "code",
   "execution_count": 150,
   "metadata": {},
   "outputs": [
    {
     "name": "stdout",
     "output_type": "stream",
     "text": [
      "I'm a student.\n",
      "10 \\ 5 = 2.\n",
      "Hello\n",
      "World !\n",
      "Hello\r",
      "students !\n",
      "Hello\tWorld !\n",
      "Hello \bWorld!\n",
      "Hello\f",
      "cat!\n",
      "Cat\n",
      "Cat\n"
     ]
    }
   ],
   "source": [
    "a = \"I\\'m a student.\" # \\' or \\\" = single quote or double quote\n",
    "b = '10 \\\\ 5 = 2.' # \\\\ = blackslash\n",
    "c = 'Hello\\nWorld !' # \\n = new line\n",
    "d = 'Hello\\rstudents !' # \\r = carriage return\n",
    "e = 'Hello\\tWorld !' # \\t = tab\n",
    "f = 'Hello \\bWorld!' # \\b = backspace\n",
    "g = 'Hello\\fcat!' # \\f = form feed\n",
    "h = '\\103\\141\\164' # \\000 = octal value\n",
    "i = '\\x43\\x61\\x74' # \\xhh = Hex value\n",
    "print(a)\n",
    "print(b)\n",
    "print(c)\n",
    "print(d)\n",
    "print(e)\n",
    "print(f)\n",
    "print(g)\n",
    "print(h)\n",
    "print(i)"
   ]
  },
  {
   "cell_type": "code",
   "execution_count": 64,
   "metadata": {},
   "outputs": [
    {
     "name": "stdout",
     "output_type": "stream",
     "text": [
      "Hello world!\n",
      "12 hello world!\n"
     ]
    }
   ],
   "source": [
    "# Convert the firt character to upper case\n",
    "x = 'hello world!'\n",
    "z = '12 hello world!'\n",
    "print(x.capitalize())\n",
    "print(z.capitalize())"
   ]
  },
  {
   "cell_type": "code",
   "execution_count": 68,
   "metadata": {},
   "outputs": [
    {
     "name": "stdout",
     "output_type": "stream",
     "text": [
      "hello world!\n",
      "15 hello world!\n"
     ]
    }
   ],
   "source": [
    "# Convert string into lower case\n",
    "x = 'HELLO WORLD!'\n",
    "z = '15 HELLO WORLD!'\n",
    "print(x.casefold())\n",
    "print(z.casefold())"
   ]
  },
  {
   "cell_type": "code",
   "execution_count": 70,
   "metadata": {},
   "outputs": [
    {
     "name": "stdout",
     "output_type": "stream",
     "text": [
      "25\n",
      "          returns a centered string          \n",
      "__________returns a centered string__________\n"
     ]
    }
   ],
   "source": [
    "x = 'returns a centered string'\n",
    "print(len(x))\n",
    "print(x.center(45))\n",
    "print(x.center(45, '_'))"
   ]
  },
  {
   "cell_type": "code",
   "execution_count": 83,
   "metadata": {},
   "outputs": [
    {
     "name": "stdout",
     "output_type": "stream",
     "text": [
      "105\n",
      "2\n",
      "1\n"
     ]
    }
   ],
   "source": [
    "x = ('The count() method returns the number of times a sppears in the string\\\n",
    "    steing.count(value, start, end)')\n",
    "print(len(x))\n",
    "print(x.count('the'))\n",
    "print(x.count('the', 0, 50))"
   ]
  },
  {
   "cell_type": "code",
   "execution_count": 15,
   "metadata": {},
   "outputs": [
    {
     "name": "stdout",
     "output_type": "stream",
     "text": [
      "b'My name is \\xc3\\xb5u\\xc2\\xbfn\\xc3\\x80'\n",
      "My name is õu¿nÀ\n"
     ]
    }
   ],
   "source": [
    "txt = 'My name is õu¿nÀ'\n",
    "x = txt.encode()\n",
    "print(x)\n",
    "y = x.decode()\n",
    "print(y)"
   ]
  },
  {
   "cell_type": "code",
   "execution_count": 19,
   "metadata": {},
   "outputs": [
    {
     "name": "stdout",
     "output_type": "stream",
     "text": [
      "b'My name is \\\\u0eab\\\\u0e99\\\\u0eb6\\\\u0ec8\\\\u0e87'\n",
      "b'My name is '\n",
      "b'My name is \\\\N{LAO LETTER HO SUNG}\\\\N{LAO LETTER NO}\\\\N{LAO VOWEL SIGN Y}\\\\N{LAO TONE MAI EK}\\\\N{LAO LETTER NGO}'\n",
      "b'My name is ?????'\n",
      "b'My name is &#3755;&#3737;&#3766;&#3784;&#3719;'\n"
     ]
    }
   ],
   "source": [
    "txt = 'My name is ຫນຶ່ງ'\n",
    "print(txt.encode(encoding = 'ascii', errors = 'backslashreplace'))\n",
    "print(txt.encode(encoding = 'ascii', errors = 'ignore'))\n",
    "print(txt.encode(encoding = 'ascii', errors = 'namereplace'))\n",
    "print(txt.encode(encoding = 'ascii', errors = 'replace'))\n",
    "print(txt.encode(encoding = 'ascii', errors = 'xmlcharrefreplace'))"
   ]
  },
  {
   "cell_type": "code",
   "execution_count": 22,
   "metadata": {},
   "outputs": [
    {
     "name": "stdout",
     "output_type": "stream",
     "text": [
      "False\n",
      "True\n"
     ]
    }
   ],
   "source": [
    "#ກວດສອບຄ່າລົງທ້າຍທີ່ລະບຸ\n",
    "txt = 'Hello, welcome to my world.'\n",
    "x = txt.endswith(',')\n",
    "z = txt.endswith('.')\n",
    "print(x)\n",
    "print(z)"
   ]
  },
  {
   "cell_type": "code",
   "execution_count": 31,
   "metadata": {},
   "outputs": [
    {
     "name": "stdout",
     "output_type": "stream",
     "text": [
      "27\n",
      "True\n"
     ]
    }
   ],
   "source": [
    "txt = 'Hello, wolcome to my world.'\n",
    "x = txt.endswith('world.', 15, 67)\n",
    "print(len(txt))\n",
    "print(x)"
   ]
  },
  {
   "cell_type": "code",
   "execution_count": 42,
   "metadata": {},
   "outputs": [
    {
     "name": "stdout",
     "output_type": "stream",
     "text": [
      "H  e  l  l  o\n"
     ]
    }
   ],
   "source": [
    "#ຕັ້ງຂະໜາດແທັບຕາມທີລະບຸ\n",
    "txt = 'H\\te\\tl\\tl\\to'\n",
    "x = txt.expandtabs(3)\n",
    "print(x)"
   ]
  },
  {
   "cell_type": "code",
   "execution_count": null,
   "metadata": {},
   "outputs": [],
   "source": [
    "txt = ''"
   ]
  },
  {
   "cell_type": "code",
   "execution_count": null,
   "metadata": {},
   "outputs": [],
   "source": []
  }
 ],
 "metadata": {
  "kernelspec": {
   "display_name": "Python 3",
   "language": "python",
   "name": "python3"
  },
  "language_info": {
   "codemirror_mode": {
    "name": "ipython",
    "version": 3
   },
   "file_extension": ".py",
   "mimetype": "text/x-python",
   "name": "python",
   "nbconvert_exporter": "python",
   "pygments_lexer": "ipython3",
   "version": "3.7.6"
  }
 },
 "nbformat": 4,
 "nbformat_minor": 4
}
